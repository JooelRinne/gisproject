{
 "cells": [
  {
   "cell_type": "code",
   "execution_count": null,
   "metadata": {},
   "outputs": [],
   "source": [
    "# Imports modules\n",
    "import geopandas as gpd\n",
    "import pandas as pd\n",
    "import matplotlib.pyplot as plt\n",
    "import folium\n",
    "import math\n",
    "from pyproj import CRS\n",
    "\n",
    "%matplotlib inline"
   ]
  },
  {
   "cell_type": "code",
   "execution_count": null,
   "metadata": {},
   "outputs": [],
   "source": [
    "# Reads national park data, park accessibility data, Flickd post point data and continent csv file data (change data paths)\n",
    "national_parks_fp = r\"C:\\Users\\jooel\\GISproject\\data\\WDPA_national_parks.shp\"\n",
    "accessibility_fp = r\"C:\\Users\\jooel\\GISproject\\data\\dissolved_national_parks.shp\"\n",
    "flickr_fp = r'C:\\Users\\jooel\\GISproject\\data\\flickr-in-national-parks.gpkg'\n",
    "continents_fp = r\"C:\\Users\\jooel\\GISproject\\data\\continent.csv\""
   ]
  },
  {
   "cell_type": "code",
   "execution_count": null,
   "metadata": {},
   "outputs": [],
   "source": [
    "# Reads national park data\n",
    "national_parks = gpd.read_file(national_parks_fp, encoding='utf-8')"
   ]
  },
  {
   "cell_type": "code",
   "execution_count": null,
   "metadata": {},
   "outputs": [],
   "source": [
    "# Checks the national park data\n",
    "print(len(national_parks))\n",
    "national_parks.head()"
   ]
  },
  {
   "cell_type": "code",
   "execution_count": null,
   "metadata": {},
   "outputs": [],
   "source": [
    "# Dissolves parks with different zones to a single row\n",
    "national_parks = national_parks.dissolve(by=['NAME', 'WDPAID', 'PARENT_ISO', 'ISO3'], aggfunc='sum').reset_index()"
   ]
  },
  {
   "cell_type": "code",
   "execution_count": null,
   "metadata": {},
   "outputs": [],
   "source": [
    "print(len(national_parks))\n",
    "national_parks.head()"
   ]
  },
  {
   "cell_type": "code",
   "execution_count": null,
   "metadata": {},
   "outputs": [],
   "source": [
    "# Reads accessibility data\n",
    "accessibility = gpd.read_file(accessibility_fp, encoding='utf-8')"
   ]
  },
  {
   "cell_type": "code",
   "execution_count": null,
   "metadata": {},
   "outputs": [],
   "source": [
    "# Checks the accessibility data\n",
    "print(len(accessibility))\n",
    "accessibility.head()"
   ]
  },
  {
   "cell_type": "code",
   "execution_count": null,
   "metadata": {},
   "outputs": [],
   "source": [
    "# Filters the accesibility columns from the accessibility data\n",
    "accessibility_filtered = accessibility[['WDPAID', 'acc_count', 'acc_mean', 'acc_median', 'acc_stdev', 'acc_min', 'acc_max', 'acc_range']]"
   ]
  },
  {
   "cell_type": "code",
   "execution_count": null,
   "metadata": {},
   "outputs": [],
   "source": [
    "# Reads the Flickr post data\n",
    "flickr_data = gpd.read_file(flickr_fp, encoding='utf-8')"
   ]
  },
  {
   "cell_type": "code",
   "execution_count": null,
   "metadata": {},
   "outputs": [],
   "source": [
    "# Checks the Flickr data (remember not to share the information)\n",
    "print(len(flickr_data))\n",
    "flickr_data.head()"
   ]
  },
  {
   "cell_type": "code",
   "execution_count": null,
   "metadata": {},
   "outputs": [],
   "source": [
    "# Removes any duplicates \n",
    "flickr_data_cleaned = flickr_data.drop_duplicates(subset=[\"id\", \"title\", \"description\", \"date_posted\", \"filename\", \"photo_url\", \"geometry\"]) "
   ]
  },
  {
   "cell_type": "code",
   "execution_count": null,
   "metadata": {},
   "outputs": [],
   "source": [
    "# Checks the cleaned Flickr data\n",
    "print(len(flickr_data_cleaned))\n",
    "flickr_data_cleaned.head()"
   ]
  },
  {
   "cell_type": "code",
   "execution_count": null,
   "metadata": {},
   "outputs": [],
   "source": [
    "# Reads the continent information data\n",
    "continents = pd.read_csv(continents_fp)"
   ]
  },
  {
   "cell_type": "code",
   "execution_count": null,
   "metadata": {},
   "outputs": [],
   "source": [
    "# Checks the continent data\n",
    "print(len(continents))\n",
    "continents.head()"
   ]
  },
  {
   "cell_type": "code",
   "execution_count": null,
   "metadata": {},
   "outputs": [],
   "source": [
    "# Selects needed columns from the continent data\n",
    "continents = continents[['name', 'alpha-2', 'alpha-3', 'region_remastered', 'region_bigger']]"
   ]
  },
  {
   "cell_type": "code",
   "execution_count": null,
   "metadata": {},
   "outputs": [],
   "source": [
    "# Selects needed columns from the national country data\n",
    "national_parks = national_parks[['WDPAID', 'NAME', 'geometry', 'GIS_AREA', 'Land_area', 'PARENT_ISO', 'ISO3']]\n"
   ]
  },
  {
   "cell_type": "code",
   "execution_count": null,
   "metadata": {},
   "outputs": [],
   "source": [
    "# Renames continent data country code column to match national park country code column\n",
    "continents = continents.rename(columns={\"alpha-3\" : \"ISO3\"})"
   ]
  },
  {
   "cell_type": "code",
   "execution_count": null,
   "metadata": {},
   "outputs": [],
   "source": [
    "# Changes the coordinate systems of national park data and flickr data to match each other\n",
    "national_parks.to_crs(epsg=4326)\n",
    "flickr_data_cleaned.crs = national_parks.crs"
   ]
  },
  {
   "cell_type": "code",
   "execution_count": null,
   "metadata": {},
   "outputs": [],
   "source": [
    "# Checks that the coordinate systems are the same\n",
    "flickr_data_cleaned.crs == national_parks.crs"
   ]
  },
  {
   "cell_type": "code",
   "execution_count": null,
   "metadata": {},
   "outputs": [],
   "source": [
    "# Merges national parks data with continents data\n",
    "national_parks = pd.merge(national_parks, continents, on='ISO3')"
   ]
  },
  {
   "cell_type": "code",
   "execution_count": null,
   "metadata": {},
   "outputs": [],
   "source": [
    "# Checks the merged national parks data\n",
    "print(len(national_parks))\n",
    "national_parks.head()"
   ]
  },
  {
   "cell_type": "code",
   "execution_count": null,
   "metadata": {},
   "outputs": [],
   "source": [
    "# Creates a new joined dataframe of flickr data and national parks\n",
    "flickr_joined = gpd.sjoin(flickr_data_cleaned, national_parks, how=\"inner\", op=\"within\")"
   ]
  },
  {
   "cell_type": "code",
   "execution_count": null,
   "metadata": {},
   "outputs": [],
   "source": [
    "# Check the new joined data \n",
    "print(len(flickr_joined))\n",
    "flickr_joined.head()"
   ]
  },
  {
   "cell_type": "code",
   "execution_count": null,
   "metadata": {},
   "outputs": [],
   "source": [
    "# Checks for duplicate posts\n",
    "flickr_joined_d = flickr_joined[['id', 'photo_url']]\n",
    "flickr_duplicates = flickr_joined_d.groupby(['id']).count().reset_index()\n",
    "flickr_duplicates = flickr_duplicates[flickr_duplicates.photo_url > 1]\n",
    "print(len(flickr_duplicates))\n",
    "flickr_duplicates.head()"
   ]
  },
  {
   "cell_type": "markdown",
   "metadata": {},
   "source": [
    "There are 14 067 posts that are inside borders of two overlapping national parks"
   ]
  },
  {
   "cell_type": "code",
   "execution_count": null,
   "metadata": {},
   "outputs": [],
   "source": [
    "# Groups Flickr data by national parks and adds 'number of parks' column\n",
    "flickr_joined_b = flickr_joined[['WDPAID', 'name', 'NAME', 'GIS_AREA', 'Land_area', 'ISO3', 'region_remastered', 'region_bigger', 'id']]\n",
    "flickr_joined_b['Number_of_parks'] = 1\n",
    "flickr_grouped = flickr_joined_b.groupby(['WDPAID', 'name', 'NAME', 'GIS_AREA', 'Land_area', 'ISO3', 'region_remastered', 'region_bigger', 'Number_of_parks']).count().reset_index()"
   ]
  },
  {
   "cell_type": "code",
   "execution_count": null,
   "metadata": {},
   "outputs": [],
   "source": [
    "# Joins the accessibility data to the grouped data\n",
    "flickr_grouped = pd.merge(flickr_grouped, accessibility_filtered, how='left', on='WDPAID')"
   ]
  },
  {
   "cell_type": "code",
   "execution_count": null,
   "metadata": {},
   "outputs": [],
   "source": [
    "# Checks the grouped data\n",
    "print(len(flickr_grouped))\n",
    "flickr_grouped.head()"
   ]
  },
  {
   "cell_type": "code",
   "execution_count": null,
   "metadata": {},
   "outputs": [],
   "source": [
    "# National park Gulf Of Mannar in India is listed twice, so the other has to be dropped\n",
    "print(flickr_grouped.loc[flickr_grouped['NAME'] == 'Gulf Of Mannar'])\n",
    "\n",
    "print(flickr_grouped.loc[flickr_grouped['NAME'] == 'Gulf of Mannar'])"
   ]
  },
  {
   "cell_type": "code",
   "execution_count": null,
   "metadata": {},
   "outputs": [],
   "source": [
    "# Drop the other Gulf of Mannar row\n",
    "flickr_grouped = flickr_grouped.drop([968])"
   ]
  },
  {
   "cell_type": "code",
   "execution_count": null,
   "metadata": {},
   "outputs": [],
   "source": [
    "print(len(flickr_grouped))"
   ]
  },
  {
   "cell_type": "code",
   "execution_count": null,
   "metadata": {},
   "outputs": [],
   "source": [
    "# Counts parks' post densities using the whole area\n",
    "flickr_grouped['post_density_total'] = flickr_grouped['id']/flickr_grouped['GIS_AREA']"
   ]
  },
  {
   "cell_type": "code",
   "execution_count": null,
   "metadata": {},
   "outputs": [],
   "source": [
    "# Counts parks' post densities using land area\n",
    "flickr_grouped['post_density_land'] = flickr_grouped['id']/flickr_grouped['Land_area']"
   ]
  },
  {
   "cell_type": "code",
   "execution_count": null,
   "metadata": {},
   "outputs": [],
   "source": [
    "# Renames name column to Country and id column to represent number of posts inside park polygon and\n",
    "flickr_grouped = flickr_grouped.rename(columns={\"id\" : \"Number_of_posts\", \"name\" : \"Country\"})"
   ]
  },
  {
   "cell_type": "code",
   "execution_count": null,
   "metadata": {},
   "outputs": [],
   "source": [
    "# Selects columns for a national summary\n",
    "flickr_summary_national = flickr_grouped[['Country', 'ISO3', 'Number_of_parks', 'GIS_AREA', 'region_remastered', 'region_bigger', 'Land_area', 'Number_of_posts']]"
   ]
  },
  {
   "cell_type": "code",
   "execution_count": null,
   "metadata": {},
   "outputs": [],
   "source": [
    "flickr_summary_national"
   ]
  },
  {
   "cell_type": "code",
   "execution_count": null,
   "metadata": {},
   "outputs": [],
   "source": [
    "# Groups data by country code\n",
    "flickr_summary_national = flickr_summary_national.groupby(['Country', 'ISO3', 'region_remastered', 'region_bigger']).sum().reset_index()"
   ]
  },
  {
   "cell_type": "code",
   "execution_count": null,
   "metadata": {},
   "outputs": [],
   "source": [
    "# Counts average densities using the whole area and land area seperately on a national scale\n",
    "flickr_summary_national['post_density_national_total'] = flickr_summary_national['Number_of_posts']/flickr_summary_national['GIS_AREA']  \n",
    "flickr_summary_national['post_density_national_land'] = flickr_summary_national['Number_of_posts']/flickr_summary_national['Land_area']  "
   ]
  },
  {
   "cell_type": "code",
   "execution_count": null,
   "metadata": {},
   "outputs": [],
   "source": [
    "# Checks the national summary data\n",
    "print(len(flickr_summary_national))\n",
    "flickr_summary_national.head()"
   ]
  },
  {
   "cell_type": "code",
   "execution_count": null,
   "metadata": {},
   "outputs": [],
   "source": [
    "# Calculates descriptive statistics on national level\n",
    "flickr_summary_stats = flickr_grouped[['Country', 'post_density_total', 'acc_count', 'acc_mean', 'acc_median', 'acc_stdev', 'acc_min', 'acc_max', 'acc_range']]\n",
    "flickr_summary_national_max = flickr_summary_stats.groupby(['Country']).max().reset_index()\n",
    "flickr_summary_national_min = flickr_summary_stats.groupby(['Country']).min().reset_index()\n",
    "flickr_summary_national_mean = flickr_summary_stats.groupby(['Country']).mean().reset_index()\n",
    "flickr_summary_national_median = flickr_summary_stats.groupby(['Country']).median().reset_index()\n",
    "flickr_summary_national_var = flickr_summary_stats.groupby(['Country']).var().reset_index()\n"
   ]
  },
  {
   "cell_type": "code",
   "execution_count": null,
   "metadata": {},
   "outputs": [],
   "source": [
    "flickr_summary_national['post_density_total_max'] = flickr_summary_national_max['post_density_total']\n",
    "flickr_summary_national['post_density_total_min'] = flickr_summary_national_min['post_density_total']\n",
    "flickr_summary_national['post_density_total_mean'] = flickr_summary_national_mean['post_density_total']\n",
    "flickr_summary_national['post_density_total_median'] = flickr_summary_national_median['post_density_total']\n",
    "flickr_summary_national['post_density_total_var'] = flickr_summary_national_var['post_density_total']\n",
    "flickr_summary_national['acc_mean_national'] = flickr_summary_national_mean['acc_min']\n",
    "flickr_summary_national['acc_median_national'] = flickr_summary_national_median['acc_min']\n",
    "flickr_summary_national['acc_var_national'] = flickr_summary_national_var['acc_min']\n",
    "flickr_summary_national['acc_min_national'] = flickr_summary_national_min['acc_min']\n",
    "flickr_summary_national['acc_max_national'] = flickr_summary_national_max['acc_min']\n",
    "flickr_summary_national['acc_range_national'] = flickr_summary_national_max['acc_min'] - flickr_summary_national_min['acc_min']"
   ]
  },
  {
   "cell_type": "code",
   "execution_count": null,
   "metadata": {},
   "outputs": [],
   "source": [
    "# Checks national summary with descriptive statistics\n",
    "flickr_summary_national"
   ]
  },
  {
   "cell_type": "code",
   "execution_count": null,
   "metadata": {},
   "outputs": [],
   "source": [
    "# Creates summary on continental level\n",
    "flickr_summary_continent = flickr_grouped[['region_remastered', 'Number_of_parks', 'GIS_AREA', 'Land_area', 'Number_of_posts']]\n",
    "flickr_summary_continent = flickr_summary_continent.groupby(['region_remastered']).sum().reset_index()\n",
    "flickr_summary_continent['post_density_continent_total'] = flickr_summary_continent['Number_of_posts']/flickr_summary_continent['GIS_AREA'] \n",
    "flickr_summary_continent['post_density_continent_land'] = flickr_summary_continent['Number_of_posts']/flickr_summary_continent['Land_area'] "
   ]
  },
  {
   "cell_type": "code",
   "execution_count": null,
   "metadata": {},
   "outputs": [],
   "source": [
    "# Checks the continental sumamry data\n",
    "print(len(flickr_summary_continent))\n",
    "flickr_summary_continent.head()"
   ]
  },
  {
   "cell_type": "code",
   "execution_count": null,
   "metadata": {},
   "outputs": [],
   "source": [
    "# Calculates descriptive statistics on regional level\n",
    "flickr_summary_stats_2 = flickr_grouped[['region_remastered', 'post_density_total', 'acc_count', 'acc_mean', 'acc_median', 'acc_stdev', 'acc_min', 'acc_max', 'acc_range']]\n",
    "\n",
    "flickr_summary_continent_max = flickr_summary_stats_2.groupby(['region_remastered']).max().reset_index()\n",
    "flickr_summary_continent_min = flickr_summary_stats_2.groupby(['region_remastered']).min().reset_index()\n",
    "flickr_summary_continent_mean = flickr_summary_stats_2.groupby(['region_remastered']).mean().reset_index()\n",
    "flickr_summary_continent_median = flickr_summary_stats_2.groupby(['region_remastered']).median().reset_index()\n",
    "flickr_summary_continent_var = flickr_summary_stats_2.groupby(['region_remastered']).var().reset_index()"
   ]
  },
  {
   "cell_type": "code",
   "execution_count": null,
   "metadata": {},
   "outputs": [],
   "source": [
    "flickr_summary_continent['post_density_continent_total_max'] = flickr_summary_continent_max['post_density_total']\n",
    "flickr_summary_continent['post_density_continent__total_min'] = flickr_summary_continent_min['post_density_total']\n",
    "flickr_summary_continent['post_density_continent_total_mean'] = flickr_summary_continent_mean['post_density_total']\n",
    "flickr_summary_continent['post_density_continent_total_median'] = flickr_summary_continent_median['post_density_total']\n",
    "flickr_summary_continent['post_density_continent_total_var'] = flickr_summary_continent_var['post_density_total']\n",
    "flickr_summary_continent['acc_mean_continental'] = flickr_summary_continent_mean['acc_min']\n",
    "flickr_summary_continent['acc_median_continental'] = flickr_summary_continent_median['acc_min']\n",
    "flickr_summary_continent['acc_var_continental'] = flickr_summary_continent_var['acc_min']\n",
    "flickr_summary_continent['acc_min_continental'] = flickr_summary_continent_min['acc_min']\n",
    "flickr_summary_continent['acc_max_continental'] = flickr_summary_continent_max['acc_min']\n",
    "flickr_summary_continent['acc_range_continental'] = flickr_summary_continent_max['acc_min'] - flickr_summary_continent_min['acc_min']"
   ]
  },
  {
   "cell_type": "code",
   "execution_count": null,
   "metadata": {},
   "outputs": [],
   "source": [
    "# Checks continental summary with descriptive statistics\n",
    "flickr_summary_continent"
   ]
  },
  {
   "cell_type": "code",
   "execution_count": null,
   "metadata": {},
   "outputs": [],
   "source": [
    "# Creates alternative continental level summary\n",
    "flickr_summary_largecontinent = flickr_grouped[['region_bigger', 'Number_of_parks', 'GIS_AREA', 'Land_area', 'Number_of_posts']]\n",
    "flickr_summary_largecontinent = flickr_summary_largecontinent.groupby(['region_bigger']).sum().reset_index()\n",
    "flickr_summary_largecontinent['post_density_continent_total'] = flickr_summary_largecontinent['Number_of_posts']/flickr_summary_largecontinent['GIS_AREA'] \n",
    "flickr_summary_largecontinent['post_density_continent_land'] = flickr_summary_largecontinent['Number_of_posts']/flickr_summary_largecontinent['Land_area'] "
   ]
  },
  {
   "cell_type": "code",
   "execution_count": null,
   "metadata": {},
   "outputs": [],
   "source": [
    "# Checks the alternative continental summary data\n",
    "print(len(flickr_summary_largecontinent))\n",
    "flickr_summary_largecontinent.head()"
   ]
  },
  {
   "cell_type": "code",
   "execution_count": null,
   "metadata": {},
   "outputs": [],
   "source": [
    "# Calculates descriptive statistics on continental level\n",
    "flickr_summary_stats_national_2 = flickr_summary_national[['region_bigger', 'post_density_national_total']]\n",
    "flickr_summary_largecontinent_max = flickr_summary_stats_national_2.groupby(['region_bigger']).max().reset_index()\n",
    "flickr_summary_largecontinent_min = flickr_summary_stats_national_2.groupby(['region_bigger']).min().reset_index()\n",
    "flickr_summary_largecontinent_mean = flickr_summary_stats_national_2.groupby(['region_bigger']).mean().reset_index()\n",
    "flickr_summary_largecontinent_median = flickr_summary_stats_national_2.groupby(['region_bigger']).median().reset_index()\n",
    "flickr_summary_largecontinent_var = flickr_summary_stats_national_2.groupby(['region_bigger']).var().reset_index()"
   ]
  },
  {
   "cell_type": "code",
   "execution_count": null,
   "metadata": {},
   "outputs": [],
   "source": [
    "flickr_summary_largecontinent['post_density_national_total_max'] = flickr_summary_largecontinent_max['post_density_national_total']\n",
    "flickr_summary_largecontinent['post_density_national__total_min'] = flickr_summary_largecontinent_min['post_density_national_total']\n",
    "flickr_summary_largecontinent['post_density_national_total_mean'] = flickr_summary_largecontinent_mean['post_density_national_total']\n",
    "flickr_summary_largecontinent['post_density_national_total_median'] = flickr_summary_largecontinent_median['post_density_national_total']\n",
    "flickr_summary_largecontinent['post_density_national_total_var'] = flickr_summary_largecontinent_var['post_density_national_total']"
   ]
  },
  {
   "cell_type": "code",
   "execution_count": null,
   "metadata": {},
   "outputs": [],
   "source": [
    "# Checks alternative continental summary with descriptive statistics\n",
    "flickr_summary_largecontinent.head(8)"
   ]
  },
  {
   "cell_type": "code",
   "execution_count": null,
   "metadata": {},
   "outputs": [],
   "source": [
    "# Save all results as csv files\n",
    "outfp1 = r\"C:\\Users\\jooel\\GISproject\\results\\flickr_parks_density.csv\"\n",
    "outfp2 = r\"C:\\Users\\jooel\\GISproject\\results\\flickr_national_density.csv\"\n",
    "outfp3 = r\"C:\\Users\\jooel\\GISproject\\results\\flickr_continental_density.csv\"\n",
    "outfp4 = r\"C:\\Users\\jooel\\GISproject\\results\\flickr_larger_continental_density.csv\"\n",
    "flickr_grouped.to_csv(outfp1, encoding='utf-8')\n",
    "flickr_summary_national.to_csv(outfp2)\n",
    "flickr_summary_continent.to_csv(outfp3)\n",
    "flickr_summary_largecontinent.to_csv(outfp4)"
   ]
  }
 ],
 "metadata": {
  "kernelspec": {
   "display_name": "Python 3",
   "language": "python",
   "name": "python3"
  },
  "language_info": {
   "codemirror_mode": {
    "name": "ipython",
    "version": 3
   },
   "file_extension": ".py",
   "mimetype": "text/x-python",
   "name": "python",
   "nbconvert_exporter": "python",
   "pygments_lexer": "ipython3",
   "version": "3.7.6"
  }
 },
 "nbformat": 4,
 "nbformat_minor": 4
}
