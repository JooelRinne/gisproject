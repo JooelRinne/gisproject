{
 "cells": [
  {
   "cell_type": "markdown",
   "metadata": {},
   "source": [
    "## Linguistic analysis of Flickr data\n",
    "#### This notebook contains the code used to run the linguistic analysis section of our article. Specifically, the language of a subsection of the posts is determined and the most important words found in the posts are determined using word count and tf-idf methods.\n",
    "\n",
    "##### Dependencies:\n",
    "- Pandas\n",
    "- Geopandas\n",
    "- Matplotlib.pyplot\n",
    "- Gensim\n",
    "- NLTK\n",
    "- Langdetect (Python implementation)"
   ]
  },
  {
   "cell_type": "code",
   "execution_count": 1,
   "metadata": {},
   "outputs": [],
   "source": [
    "import geopandas as gpd\n",
    "import pandas as pd\n",
    "from langdetect import detect, detect_langs\n",
    "import re, string\n",
    "import matplotlib.pyplot as plt\n",
    "import gensim as gm\n",
    "from nltk import word_tokenize, FreqDist\n",
    "from nltk.corpus import stopwords"
   ]
  },
  {
   "cell_type": "markdown",
   "metadata": {},
   "source": [
    "### Text preprocessing"
   ]
  },
  {
   "cell_type": "markdown",
   "metadata": {},
   "source": [
    "Reading in a geopackage containing all of the Flickr posts in the dataset"
   ]
  },
  {
   "cell_type": "code",
   "execution_count": null,
   "metadata": {},
   "outputs": [],
   "source": [
    "geo_data = gpd.read_file(\"C:\\\\path_to_file\\\\flickr_cleaned.gpkg\")"
   ]
  },
  {
   "cell_type": "code",
   "execution_count": 9,
   "metadata": {},
   "outputs": [],
   "source": [
    "# transforming to non-spatial form, because GDF caused some troubles\n",
    "data = pd.DataFrame(geo_data)"
   ]
  },
  {
   "cell_type": "code",
   "execution_count": 44,
   "metadata": {},
   "outputs": [],
   "source": [
    "def regex_check(text):\n",
    "    \"\"\"This function takes in a string and returns true if the string passes all the requirements\n",
    "    These are:\n",
    "    1. The string is long enough (more than 15 characters)\n",
    "    2. It's not just an url\n",
    "    3. It's not just a default filename\n",
    "    These rules were found to clean up at least most of the useless noise.\"\"\"\n",
    "\n",
    "    len_check = len(text) < 15\n",
    "    url_check = re.search(r'(http|ftp|https)://([\\w_-]+(?:(?:\\.[\\w_-]+)+))([\\w.,@?^=%&:/~+#-]*[\\w@?^=%&/~+#-])?$', text)\n",
    "    num_check = re.search(r'\\d{5,}', text)\n",
    "    img_check = re.search(r'IMG\\.', text)\n",
    "    filetype_check = re.search(r'(\\.jpg$|\\.png$)', text)\n",
    "    \n",
    "    # if any of these previous checks were true the string has failed. Return false\n",
    "    if url_check or len_check or num_check or img_check or filetype_check:\n",
    "        return False\n",
    "    else:\n",
    "        return True"
   ]
  },
  {
   "cell_type": "code",
   "execution_count": 65,
   "metadata": {},
   "outputs": [],
   "source": [
    "prev_text = \"\"\n",
    "desc_checks = []\n",
    "# loop through the description column. For each string, produce either true or false\n",
    "# add these booleans to a list\n",
    "for text in data['description']:\n",
    "    # the text might be missing\n",
    "    if not text:\n",
    "        desc_checks.append(False)\n",
    "    # or be a duplicate\n",
    "    elif text==prev_text:\n",
    "        desc_checks.append(False)\n",
    "        prev_text=text\n",
    "    # else, run it through regex checks above\n",
    "    else:\n",
    "        check = regex_check(text)\n",
    "        desc_checks.append(check)\n",
    "        prev_text=text"
   ]
  },
  {
   "cell_type": "code",
   "execution_count": 66,
   "metadata": {},
   "outputs": [],
   "source": [
    "# text seemed to be found in the title as well. Repeat the process\n",
    "prev_text = \"\"\n",
    "title_checks = []\n",
    "for text in data['title']:\n",
    "    #print(text)\n",
    "    if not text:\n",
    "        title_checks.append(False)\n",
    "    elif text==prev_text:\n",
    "        title_checks.append(False)\n",
    "        prev_text=text\n",
    "    else:\n",
    "        check = regex_check(text)\n",
    "        title_checks.append(check)\n",
    "        prev_text=text\n",
    "    "
   ]
  },
  {
   "cell_type": "code",
   "execution_count": 67,
   "metadata": {},
   "outputs": [
    {
     "name": "stdout",
     "output_type": "stream",
     "text": [
      "[False, False, False, False, False, False, False, False, False, False, False, False, False, False, False, False, False, False, False, False, False, False, False, False, True, False, False, False, False, False, False, False, False, False, False, False, False, False, False, False, False, False, False, False, False, False, False, False, False, False, False, False, False, False, False, True, True, False, False, False, False, False, False, False, False, False, False, False, False, False, False, False, False, False, False, False, False, False, False, False, False, False, True, False, True, True, True, True, True, False, False, False, True, True, False, True, True, False, True, False, False, False, False, False, False, False, False, False, False, True, True, True, True, False, False, False, False, False, False, False, False, False, True, False, True, False, False, False, False, False, False, False, False, False, False, False, False, False, True, True, False, False, False, False, False, False, False, False, False, False]\n"
     ]
    }
   ],
   "source": [
    "# exploring the data\n",
    "print(desc_checks[:150])"
   ]
  },
  {
   "cell_type": "code",
   "execution_count": 56,
   "metadata": {},
   "outputs": [
    {
     "data": {
      "text/plain": [
       "2333550"
      ]
     },
     "execution_count": 56,
     "metadata": {},
     "output_type": "execute_result"
    }
   ],
   "source": [
    "len(desc_checks)"
   ]
  },
  {
   "cell_type": "code",
   "execution_count": 68,
   "metadata": {},
   "outputs": [],
   "source": [
    "# the lists are the same length as the columns\n",
    "# therefore, they can be defined as columns easily\n",
    "data['title_check'] = title_checks\n",
    "data['desc_check'] = desc_checks"
   ]
  },
  {
   "cell_type": "code",
   "execution_count": 78,
   "metadata": {},
   "outputs": [],
   "source": [
    "# checking out in how many posts the title text has passed these requirements\n",
    "titles = data.loc[data['title_check']].copy()\n",
    "len(titles)"
   ]
  },
  {
   "cell_type": "code",
   "execution_count": 79,
   "metadata": {},
   "outputs": [
    {
     "data": {
      "text/plain": [
       "702841"
      ]
     },
     "execution_count": 79,
     "metadata": {},
     "output_type": "execute_result"
    }
   ],
   "source": [
    "# repeat for description\n",
    "descs = data.loc[data['desc_check']].copy()\n",
    "len(descs)"
   ]
  },
  {
   "cell_type": "code",
   "execution_count": 75,
   "metadata": {},
   "outputs": [],
   "source": [
    "# creating a new dataframe where the checks are true for both columns.\n",
    "# Different approaches could be taken here: we decided to combine these \n",
    "# columns in the end and thus create a larger text item to study\n",
    "titles_n_desc = data.loc[data['title_check'] & data['desc_check']].copy()"
   ]
  },
  {
   "cell_type": "code",
   "execution_count": 161,
   "metadata": {},
   "outputs": [],
   "source": [
    "# some of the rows (about 10, I think) produced faulty results...\n",
    "# they were manually dropped. Should've kept all the dropped rows, damn\n",
    "# now it must be done again, unless the premade geodataframe is not used\n",
    "titles_n_desc = titles_n_desc.drop([1001545])"
   ]
  },
  {
   "cell_type": "code",
   "execution_count": 167,
   "metadata": {},
   "outputs": [
    {
     "data": {
      "text/plain": [
       "227426"
      ]
     },
     "execution_count": 167,
     "metadata": {},
     "output_type": "execute_result"
    }
   ],
   "source": [
    "# this is how many posts are left\n",
    "len(titles_n_desc)"
   ]
  },
  {
   "cell_type": "code",
   "execution_count": 24,
   "metadata": {},
   "outputs": [
    {
     "ename": "NameError",
     "evalue": "name 'geo_data' is not defined",
     "output_type": "error",
     "traceback": [
      "\u001b[1;31m---------------------------------------------------------------------------\u001b[0m",
      "\u001b[1;31mNameError\u001b[0m                                 Traceback (most recent call last)",
      "\u001b[1;32m<ipython-input-24-5f9aeb5487dd>\u001b[0m in \u001b[0;36m<module>\u001b[1;34m\u001b[0m\n\u001b[1;32m----> 1\u001b[1;33m \u001b[0mtitles_n_desc_geo\u001b[0m \u001b[1;33m=\u001b[0m \u001b[0mgpd\u001b[0m\u001b[1;33m.\u001b[0m\u001b[0mGeoDataFrame\u001b[0m\u001b[1;33m(\u001b[0m\u001b[0mtitles_n_desc\u001b[0m\u001b[1;33m,\u001b[0m \u001b[0mcrs\u001b[0m\u001b[1;33m=\u001b[0m\u001b[0mgeo_data\u001b[0m\u001b[1;33m.\u001b[0m\u001b[0mcrs\u001b[0m\u001b[1;33m,\u001b[0m \u001b[0mgeometry\u001b[0m\u001b[1;33m=\u001b[0m\u001b[1;34m'geometry'\u001b[0m\u001b[1;33m)\u001b[0m\u001b[1;33m\u001b[0m\u001b[1;33m\u001b[0m\u001b[0m\n\u001b[0m",
      "\u001b[1;31mNameError\u001b[0m: name 'geo_data' is not defined"
     ]
    }
   ],
   "source": [
    "# creating a geodataframe\n",
    "titles_n_desc_geo = gpd.GeoDataFrame(titles_n_desc, crs=geo_data.crs, geometry='geometry')"
   ]
  },
  {
   "cell_type": "code",
   "execution_count": 90,
   "metadata": {},
   "outputs": [],
   "source": [
    "# dropping useless columns\n",
    "titles_n_desc_geo = titles_n_desc_geo.drop(columns=['media_downloaded', 'title_check', 'desc_check'])"
   ]
  },
  {
   "cell_type": "code",
   "execution_count": null,
   "metadata": {},
   "outputs": [],
   "source": [
    "# writing to geopackage\n",
    "titles_n_desc.to_file(\"C:\\\\file_path\\\\flickr_titles_desc.gpkg\",driver=\"GPKG\")"
   ]
  },
  {
   "cell_type": "code",
   "execution_count": 2,
   "metadata": {},
   "outputs": [],
   "source": [
    "# reading back the gpkg\n",
    "titles_n_desc = gpd.read_file(\"C:\\\\file_path\\\\flickr_titles_desc.gpkg\")"
   ]
  },
  {
   "cell_type": "markdown",
   "metadata": {},
   "source": [
    "### Language identification"
   ]
  },
  {
   "cell_type": "code",
   "execution_count": 4,
   "metadata": {},
   "outputs": [],
   "source": [
    "def lang_detection(text):\n",
    "    \"\"\"This function is fed a string and it returns a string that tells\n",
    "    1. Two letter code marking the language identified\n",
    "    2. String 'null', if the identification turned out to be uncertain\"\"\"\n",
    "    languages = detect_langs(text)\n",
    "    \n",
    "    if languages[0].prob >= 0.85:\n",
    "        return languages[0].lang\n",
    "    else:\n",
    "        return 'null'\n",
    "    "
   ]
  },
  {
   "cell_type": "code",
   "execution_count": 6,
   "metadata": {},
   "outputs": [],
   "source": [
    "languages = []\n",
    "# looping through titles and descriptions\n",
    "for title, desc in zip(titles_n_desc['title'], titles_n_desc['description']):\n",
    "    # removing useless whitespace\n",
    "    if desc.strip():\n",
    "        full_text = title + \" \" + desc\n",
    "        # in case there isn't any text\n",
    "        if full_text:\n",
    "            detected_language = lang_detection(full_text)\n",
    "    \n",
    "            languages.append(detected_language)\n",
    "        else:\n",
    "            languages.append('null')\n",
    "    else:\n",
    "        languages.append('null')"
   ]
  },
  {
   "cell_type": "code",
   "execution_count": 27,
   "metadata": {},
   "outputs": [],
   "source": [
    "# so as to not run this code repeatedly when reopening, write the results to a list\n",
    "with open(\"languages_list.txt\", \"w\") as f:\n",
    "    for item in languages:\n",
    "        f.write(\"%s\\n\" % str(item))"
   ]
  },
  {
   "cell_type": "code",
   "execution_count": 6,
   "metadata": {},
   "outputs": [
    {
     "name": "stdout",
     "output_type": "stream",
     "text": [
      "{'cs', 'no', 'fr', 'ko', 'hr', 'pt', 'zh-tw', 'ja', 'da', 'sw', 'bg', 'af', 'ca', 'vi', 'th', 'ru', 'fi', 'hu', 'tr', 'nl', 'es', 'mr', 'id', 'null', 'pl', 'uk', 'mk', 'so', 'sv', 'en', 'zh-cn', 'it', 'de', 'ar', 'ro', 'sk', 'cy', 'lv', 'he', 'el', 'tl', 'et', 'sq', 'sl', 'lt'}\n"
     ]
    }
   ],
   "source": [
    "# see unique languages\n",
    "print(set(languages))"
   ]
  },
  {
   "cell_type": "code",
   "execution_count": 22,
   "metadata": {},
   "outputs": [],
   "source": [
    "titles_n_desc['lang'] = languages"
   ]
  },
  {
   "cell_type": "code",
   "execution_count": 82,
   "metadata": {},
   "outputs": [],
   "source": [
    "# subset with only recognized languages\n",
    "no_null = titles_n_desc.loc[titles_n_desc['lang'] != 'null'].copy()"
   ]
  },
  {
   "cell_type": "code",
   "execution_count": 13,
   "metadata": {},
   "outputs": [],
   "source": [
    "# for plotting purposes\n",
    "major_languages = ['en', 'es', 'it', 'de', 'null']"
   ]
  },
  {
   "cell_type": "code",
   "execution_count": 84,
   "metadata": {},
   "outputs": [],
   "source": [
    "# if not one of the large languages, a new value is defined for those rows\n",
    "no_null.loc[no_null['lang'].isin(major_languages) == False] = 'other'"
   ]
  },
  {
   "cell_type": "code",
   "execution_count": 16,
   "metadata": {},
   "outputs": [],
   "source": [
    "titles_n_desc.loc[titles_n_desc['lang'].isin(major_languages) == False] = 'other'"
   ]
  },
  {
   "cell_type": "code",
   "execution_count": 21,
   "metadata": {
    "scrolled": false
   },
   "outputs": [
    {
     "data": {
      "image/png": "[encoded data removed]",
      "text/plain": [
       "<Figure size 576x576 with 1 Axes>"
      ]
     },
     "metadata": {},
     "output_type": "display_data"
    }
   ],
   "source": [
    "labels = ['English', 'Unidentified', 'Other', 'Spanish', 'German', 'Italian']\n",
    "colors = ['#66b3ff', '#ff9999','#99ff99','#ffcc99', '#99fff5', '#ff99ff']\n",
    "# plot either this or the 'no_null' dataframe\n",
    "ax = titles_n_desc['lang'].value_counts().plot(kind='pie', colors=colors, figsize=(8,8), labels=labels,\n",
    "                                   autopct='%1.1f%%', shadow=True)\n",
    "plt.axis('equal')\n",
    "ax.yaxis.set_visible(False)\n",
    "plt.savefig(\"lang_piechart.png\")"
   ]
  },
  {
   "cell_type": "markdown",
   "metadata": {},
   "source": [
    "### Word analysis"
   ]
  },
  {
   "cell_type": "code",
   "execution_count": 133,
   "metadata": {},
   "outputs": [],
   "source": [
    "# fetch rows identified as english\n",
    "english_sents = titles_n_desc.loc[titles_n_desc['lang'] == 'en'].copy()"
   ]
  },
  {
   "cell_type": "code",
   "execution_count": 193,
   "metadata": {},
   "outputs": [],
   "source": [
    "sents = []\n",
    "i = 0\n",
    "# NOTE!!! English sentences analyzed, change \"english sents\" to \"titles_n_desc\" for full dataset examination\n",
    "for title, desc in zip(english_sents['title'], english_sents['description']):\n",
    "    if desc.strip():\n",
    "        full_text = title + \" \" + desc\n",
    "        # add all the tokenized (split to individual words) words. Uncommented version filters for useless characters\n",
    "        split_text = [word.lower() for word in word_tokenize(full_text)]\n",
    "        #split_text = [word.lower() for word in word_tokenize(full_text) if word.isalpha()]\n",
    "        \n",
    "        sents.append(split_text)\n"
   ]
  },
  {
   "cell_type": "code",
   "execution_count": 194,
   "metadata": {},
   "outputs": [],
   "source": [
    "# sentences to gensim dictionary\n",
    "words_dictionary = gm.corpora.Dictionary(sents)\n",
    "# remove extremely uncommon and common words\n",
    "words_dictionary.filter_extremes(no_below=2, no_above=0.6)\n",
    "\n",
    "# dictionary to corpus\n",
    "corpus = [words_dictionary.doc2bow(doc,allow_update=False) for doc in sents]\n",
    "#dct = gm.corpora.Dictionary(corpus)\n",
    "#corpus.filter_extremes(no_below=2, no_above=0.6)"
   ]
  },
  {
   "cell_type": "code",
   "execution_count": 195,
   "metadata": {},
   "outputs": [],
   "source": [
    "# applying tf-idf\n",
    "tfidf = gm.models.TfidfModel(corpus, smartirs='lfc')"
   ]
  },
  {
   "cell_type": "code",
   "execution_count": 190,
   "metadata": {},
   "outputs": [
    {
     "name": "stdout",
     "output_type": "stream",
     "text": [
      "TfidfModel(num_docs=224774, num_nnz=5325789)\n"
     ]
    }
   ],
   "source": [
    "# key figures\n",
    "print(tfidf)"
   ]
  },
  {
   "cell_type": "code",
   "execution_count": 196,
   "metadata": {},
   "outputs": [],
   "source": [
    "i = 0\n",
    "d = {}\n",
    "# filling out a dictionary where the word is the key and the tf-idf score is the value\n",
    "for doc in tfidf[corpus]:\n",
    "    for ident, value in doc:\n",
    "        word = words_dictionary.get(ident)\n",
    "        d[word] = value\n",
    "    #i += 1\n",
    "    #if i == 1000:\n",
    "        #print([[words_dictionary[ident], round(freq, 2)] for ident, freq in doc])\n",
    "        #break"
   ]
  },
  {
   "cell_type": "code",
   "execution_count": 197,
   "metadata": {
    "scrolled": false
   },
   "outputs": [
    {
     "name": "stdout",
     "output_type": "stream",
     "text": [
      "{'jolie': 0.8, 'niggerheads': 0.8, 'twentymile': 0.801, 'nasu': 0.801, 'phiala': 0.801, 'footstool': 0.801, 'ndlovu': 0.801, 'belgian': 0.801, 'corporal': 0.801, 'histurgops': 0.801, 'ohi': 0.801, 'wizards': 0.802, 'dargo': 0.802, 'vieste': 0.802, 'snowdrift': 0.802, 'tiveden': 0.802, 'sleds': 0.802, 'crossandra': 0.802, 'lubec': 0.802, 'tawhai': 0.803, 'swirley': 0.803, 'shoshoni': 0.803, 'barcoo': 0.803, 'chinaman': 0.803, 'blutkuppe': 0.803, 'mardale': 0.804, 'snowbirds': 0.804, 'culmination': 0.804, 'refugees': 0.804, 'aquacourt': 0.805, 'hora': 0.805, 'cathy': 0.805, 'talon': 0.805, 'mikey': 0.805, 'meadowlark': 0.805, 'resurrection': 0.805, 'lacrymosa': 0.806, 'shutlingsloe': 0.806, 'cobbler': 0.806, 'domogled': 0.806, 'tshanga': 0.806, 'terrier': 0.806, 'amit': 0.806, 'vulnerata': 0.806, 'redrock': 0.807, 'emeric': 0.807, 'wanggoolba': 0.807, 'dicksons': 0.807, 'formosan': 0.807, 'interglacier': 0.808, 'trumpetfish': 0.808, 'cowfish': 0.808, 'providential': 0.808, 'idaea': 0.808, 'mathoura': 0.808, 'snowman': 0.808, 'oecophorinae': 0.808, 'euphonia': 0.808, 'perks': 0.809, 'enlightened': 0.809, 'chitose': 0.809, 'hallo': 0.809, 'frisbee': 0.809, 'akechidaira': 0.81, 'wilmington': 0.81, 'contemplative': 0.81, 'mortuary': 0.81, 'westridge': 0.81, 'kaprun': 0.811, 'boonoo': 0.811, 'blanketflower': 0.811, 'shute': 0.812, 'volvo': 0.813, 'guillaume': 0.813, 'ntional': 0.813, 'rollesby': 0.813, 'zardgarben': 0.813, 'brushy': 0.813, 'mandu': 0.813, 'ukanc': 0.813, 'xueshan': 0.814, 'crab': 0.814, 'snocoach': 0.814, 'chefchaouen': 0.814, 'slumbers': 0.814, '優勝美地國家公園': 0.814, 'patens': 0.814, 'inlondon': 0.815, 'toadfish': 0.815, 'csi': 0.815, 'tidemills': 0.815, 'blackpool': 0.815, 'bucking': 0.815, 'califórnia': 0.816, 'crosby': 0.816, 'sullivan': 0.816, 'uwa': 0.816, 'maxcurve': 0.816, 'baw': 0.816, 'saluting': 0.816, 'monutain': 0.816, 'revelling': 0.817, 'švyturys': 0.817, 'crazily': 0.817, 'chihkan': 0.817, 'montia': 0.817, 'scarred': 0.817, 'obstruction': 0.818, 'zavižan': 0.818, '叉尾太陽鳥': 0.818, 'peechee': 0.819, 'colouir': 0.819, 'addis': 0.819, 'northpines': 0.819, 'reflets': 0.819, 'tsessebes': 0.82, 'seedeater': 0.82, 'koonya': 0.82, 'torra': 0.82, 'gorgonia': 0.82, 'crappy': 0.82, 'sargocentron': 0.82, 'vorokhta': 0.82, 'tolmer': 0.82, 'cephalopholis': 0.821, 'deatch': 0.821, 'nabib': 0.821, 'hypobapta': 0.822, 'schandau': 0.822, 'allegro': 0.822, 'zabia': 0.823, 'sceleocantha': 0.823, 'sprint': 0.823, 'geysur': 0.823, 'opal': 0.824, 'forrester': 0.824, 'saltator': 0.824, 'oxararfoss': 0.824, 'whinlatter': 0.824, 'longonot': 0.824, 'triclops': 0.825, 'everes': 0.825, 'calliope': 0.825, 'danlers': 0.825, 'mulla': 0.825, 'coradion': 0.825, 'dicey': 0.825, 'ebor': 0.826, 'gypsy': 0.826, 'snapseed': 0.826, 'cononish': 0.827, 'drakesbad': 0.827, 'baden': 0.828, 'prionops': 0.828, 'berowra': 0.828, 'cathederal': 0.828, 'inspirational': 0.828, 'dichromodes': 0.828, 'apikuni': 0.828, 'troublemaker': 0.828, 'kinnane': 0.829, 'underpants': 0.829, 'mosse': 0.829, 'lightpaint': 0.829, 'hepatic': 0.829, 'saratoga': 0.829, 'talybont': 0.83, 'colbert': 0.83, 'jacana': 0.83, 'skrinkle': 0.83, 'mckillops': 0.831, 'maryland': 0.831, 'euastacus': 0.831, 'canyopn': 0.831, 'rbat': 0.831, 'calao': 0.831, 'checkboard': 0.831, 'gloucestor': 0.831, 'hypsipetes': 0.831, 'bec': 0.832, 'johanna': 0.832, 'niltava': 0.832, 'camelot': 0.832, 'lm': 0.832, 'castlemartin': 0.832, 'milligania': 0.832, 'dritvík': 0.832, 'solymár': 0.832, 'angie': 0.833, 'bishopstone': 0.833, 'swale': 0.833, 'omo': 0.833, 'cercyonis': 0.833, 'ricksecker': 0.834, 'newtimber': 0.835, 'patterdale': 0.835, 'approch': 0.835, 'leucophaea': 0.835, 'sisyrinchium': 0.836, 'tenfold': 0.836, 'færder': 0.836, 'trunkfish': 0.836, 'tihany': 0.836, 'cryptantha': 0.836, 'helicoverpa': 0.837, 'gilia': 0.838, 'mamoth': 0.838, 'tbc': 0.838, 'warrior': 0.838, 'chimneys': 0.839, 'cleaveland': 0.839, 'klm': 0.839, 'ptarmigan': 0.839, 'geiser': 0.84, 'icicle': 0.84, 'saltflats': 0.841, 'pacentro': 0.841, 'sarcostemma': 0.841, 'blackwater': 0.841, 'bong': 0.841, 'börzsöny': 0.841, 'pongnoi': 0.841, 'ptilorhynchus': 0.843, 'cuppa': 0.843, 'grevena': 0.843, 'hellebores': 0.844, 'baloney': 0.844, 'fullsizerender': 0.844, 'skaftafell': 0.844, 'popes': 0.845, 'colbury': 0.845, 'tetratheca': 0.845, 'unchanging': 0.845, 'ramsay': 0.845, 'punting': 0.845, 'kabru': 0.846, 'boxfish': 0.846, 'adair': 0.847, 'copy': 0.847, 'footprint': 0.848, 'crankshaft': 0.848, 'siniwava': 0.849, 'larentiinae': 0.849, 'waterhen': 0.85, 'tatocnemis': 0.85, 'thallarcha': 0.85, 'halenia': 0.85, 'greyscale': 0.85, 'rowardennan': 0.85, 'tchagra': 0.851, 'strassenrand': 0.851, 'princesnet': 0.851, 'barranco': 0.852, 'cayote': 0.852, 'deformis': 0.852, 'canarvon': 0.853, 'llangorse': 0.853, 'clounds': 0.853, 'sossousvlei': 0.853, 'zack': 0.853, 'bracklin': 0.853, 'lager': 0.854, 'marabous': 0.854, 'kitchener': 0.854, 'pygas': 0.854, 'excavator': 0.854, 'campotosto': 0.855, 'tdt': 0.855, 'mahoney': 0.856, 'ashness': 0.856, 'fowey': 0.856, 'negev': 0.856, 'strofilia': 0.857, 'shinias': 0.857, 'bola': 0.857, 'yosemity': 0.857, 'morrie': 0.858, 'muttonbird': 0.858, 'pogonia': 0.858, 'mims': 0.858, 'wigry': 0.859, 'wildgoose': 0.859, 'gaby': 0.859, 'coot': 0.86, 'cucumis': 0.86, 'leeupan': 0.861, 'snowcaps': 0.861, 'świnica': 0.861, 'uncaring': 0.862, 'mydas': 0.862, 'faraway': 0.862, 'rivderside': 0.862, 'hypipamee': 0.863, 'bongil': 0.863, 'equateur': 0.863, 'sneeuw': 0.864, 'nagarahole': 0.864, 'pyrrhula': 0.865, 'cloudes': 0.865, 'javensis': 0.866, 'tuolome': 0.866, 'munginella': 0.866, 'xanthorroea': 0.867, 'suor': 0.867, 'armillaria': 0.867, 'gasteren': 0.867, 'macdonald': 0.869, 'polystylon': 0.869, 'vernall': 0.869, 'behing': 0.87, 'dumbbell': 0.87, 'coua': 0.87, 'merganser': 0.87, 'onkaparinga': 0.871, 'cowitz': 0.871, 'machalilla': 0.871, 'yellostone': 0.871, 'chimgan': 0.872, 'sheepwash': 0.873, 'houtbay': 0.873, 'taxeotis': 0.873, 'burley': 0.874, 'panoramique': 0.874, '攝於mammoth': 0.874, 'candace': 0.876, 'oze': 0.876, 'sheri': 0.877, 'mics': 0.877, 'florencia': 0.878, 'futaleufu': 0.878, 'lory': 0.878, 'zoutkamp': 0.879, 'semipartitus': 0.879, 'petticoat': 0.879, 'fiscal': 0.88, 'annulata': 0.88, 'magnoliophyta': 0.881, 'zabriski': 0.881, 'sepphoris': 0.881, 'melanie': 0.881, 'vogelsang': 0.881, 'wasdale': 0.882, 'leeuin': 0.883, 'lochgoilhead': 0.883, 'sawridge': 0.883, 'pilis': 0.883, 'helvellyn': 0.884, 'mittersill': 0.884, 'retrocamera': 0.885, 'strongylium': 0.885, 'rimazùu': 0.886, 'ramblers': 0.887, 'whoopoe': 0.887, 'garub': 0.888, 'celia': 0.888, 'pinacles': 0.888, 'kalochori': 0.889, 'influence': 0.889, 'rauðhóll': 0.891, 'leconte': 0.892, 'versicolor': 0.892, 'koo': 0.893, 'chordifex': 0.893, 'pleasanton': 0.894, 'christy': 0.894, 'acmon': 0.894, 'tentaculata': 0.894, 'watchmen': 0.894, 'tityra': 0.894, 'bergsetbreen': 0.895, 'brigitt': 0.895, 'clichés': 0.896, 'duvel': 0.897, 'cwellyn': 0.898, 'enchantress': 0.898, 'superman': 0.901, 'caveman': 0.902, 'beville': 0.902, 'norumbega': 0.903, 'backwoods': 0.904, 'lancasters': 0.904, 'barle': 0.905, 'hulk': 0.905, 'rollasons': 0.907, 'yileen': 0.907, 'bessa': 0.907, 'aptosimum': 0.908, 'búbánatvölgy': 0.908, 'tourem': 0.909, 'ilicifolium': 0.91, 'humba': 0.912, 'harpoon': 0.912, 'oneplus': 0.913, 'spasmodic': 0.913, 'ensuite': 0.915, 'bikepacking': 0.915, 'kushiro': 0.916, 'tablelands': 0.918, 'kopie': 0.92, 'settembre': 0.923, 'koenigsee': 0.923, 'muralis': 0.923, 'chrystal': 0.925, 'myst': 0.925, 'quinalt': 0.926, 'pluto': 0.926, 'elvy': 0.929, 'poia': 0.929, 'westbrook': 0.929, 'konnevesi': 0.93, 'lemur': 0.932, 'bulldozer': 0.933, 'phelps': 0.936, 'heathcote': 0.936, 'persistence': 0.938, 'cheongsan': 0.94, 'europa': 0.941, 'gan': 0.942, 'jumpoff': 0.943, 'griften': 0.943, 'polyp': 0.943, 'stereogram': 0.944, 'magnificant': 0.945, 'margate': 0.949, 'gnome': 0.953, 'mckibbin': 0.953, 'tatry': 0.955, 'oderteich': 0.955, 'lochay': 0.956, 'fornication': 0.957, 'appleton': 0.957, 'amandola': 0.96, 'roat': 0.961, 'reservate': 0.962, 'măcin': 0.963, 'abys': 0.966, 'whitehorn': 0.969, 'flowerpecker': 0.974, 'tartally': 0.975, 'acutifolia': 0.979, 'culprit': 0.982, 'hippos': 0.99, 'queulat': 0.992, 'jabba': 0.999, 'arabian': 1.0, 'albiventris': 1.0, 'sochi': 1.0, 'troglodytes': 1.0, 'corunastylis': 1.0, 'therates': 1.0, 'pochard': 1.0}\n"
     ]
    }
   ],
   "source": [
    "# printing out the words that got the highest tf-idf scores\n",
    "print({k: round(v, 3) for k, v in sorted(d.items(), key=lambda item: item[1]) if v>0.8})"
   ]
  },
  {
   "cell_type": "code",
   "execution_count": 199,
   "metadata": {},
   "outputs": [],
   "source": [
    "# word count method below\n",
    "major_languages = ['english', 'spanish', 'french', 'italian']\n",
    "# custom stop words\n",
    "swords = ['http', 'em', 'quot', 'nofollow', 'com', 'é']\n",
    "\n",
    "# adding stop words (words with little semantic relevance)\n",
    "# to a list. Stopwords provided by NLTK\n",
    "for lang in major_languages:\n",
    "    lang_swords = stopwords.words(lang)\n",
    "    for word in lang_swords:\n",
    "        # adding normal and capitalized version too\n",
    "        swords.append(word)\n",
    "        swords.append(word.capitalize())"
   ]
  },
  {
   "cell_type": "code",
   "execution_count": 200,
   "metadata": {},
   "outputs": [],
   "source": [
    "# filtering for stopwords\n",
    "# \n",
    "flat_list = [item.lower() for sublist in sents for item in sublist if item not in swords]"
   ]
  },
  {
   "cell_type": "code",
   "execution_count": 201,
   "metadata": {},
   "outputs": [],
   "source": [
    "# nltk gives a handy frequency distribution class\n",
    "fdist = FreqDist(flat_list)"
   ]
  },
  {
   "cell_type": "code",
   "execution_count": 202,
   "metadata": {},
   "outputs": [
    {
     "name": "stdout",
     "output_type": "stream",
     "text": [
      "<FreqDist with 99930 samples and 3900136 outcomes>\n"
     ]
    }
   ],
   "source": [
    "print(fdist)"
   ]
  },
  {
   "cell_type": "code",
   "execution_count": 203,
   "metadata": {},
   "outputs": [
    {
     "data": {
      "image/png": "[encoded data removed]",
      "text/plain": [
       "<Figure size 432x288 with 1 Axes>"
      ]
     },
     "metadata": {
      "needs_background": "light"
     },
     "output_type": "display_data"
    },
    {
     "data": {
      "text/plain": [
       "<matplotlib.axes._subplots.AxesSubplot at 0x24637c06438>"
      ]
     },
     "execution_count": 203,
     "metadata": {},
     "output_type": "execute_result"
    }
   ],
   "source": [
    "fdist.plot(15)"
   ]
  }
 ],
 "metadata": {
  "kernelspec": {
   "display_name": "Python 3",
   "language": "python",
   "name": "python3"
  },
  "language_info": {
   "codemirror_mode": {
    "name": "ipython",
    "version": 3
   },
   "file_extension": ".py",
   "mimetype": "text/x-python",
   "name": "python",
   "nbconvert_exporter": "python",
   "pygments_lexer": "ipython3",
   "version": "3.7.6"
  }
 },
 "nbformat": 4,
 "nbformat_minor": 4
}
