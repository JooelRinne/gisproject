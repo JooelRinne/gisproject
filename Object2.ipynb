{
 "cells": [
  {
   "cell_type": "code",
   "execution_count": 2,
   "metadata": {},
   "outputs": [],
   "source": [
    "# Import modules\n",
    "import geopandas as gpd\n",
    "import pandas as pd\n",
    "from pyproj import CRS\n",
    "import matplotlib.pyplot as plt\n",
    "import contextily as ctx\n",
    "import folium\n",
    "from folium.plugins import MarkerCluster\n",
    "from folium.plugins import FeatureGroupSubGroup\n",
    "\n",
    "%matplotlib inline"
   ]
  },
  {
   "cell_type": "code",
   "execution_count": 9,
   "metadata": {},
   "outputs": [],
   "source": [
    "\n",
    "national_parks_fp = r\"data/WDPA_national_parks.shp\"\n",
    "#flickr_fp = r'data/flickr_data.gpk'\n",
    "#continents_fp = r\"data/continents.csv\""
   ]
  },
  {
   "cell_type": "code",
   "execution_count": 10,
   "metadata": {},
   "outputs": [],
   "source": [
    "national_parks = gpd.read_file(national_parks_fp)\n",
    "#flickr_data_unmerged = gpd.read_file(filckr_fp)\n",
    "#continents = pd.read_csv(continents_fp)"
   ]
  },
  {
   "cell_type": "code",
   "execution_count": 13,
   "metadata": {},
   "outputs": [
    {
     "data": {
      "text/plain": [
       "Index(['WDPAID', 'WDPA_PID', 'PA_DEF', 'NAME', 'ORIG_NAME', 'DESIG',\n",
       "       'DESIG_ENG', 'DESIG_TYPE', 'IUCN_CAT', 'INT_CRIT', 'MARINE',\n",
       "       'REP_M_AREA', 'GIS_M_AREA', 'REP_AREA', 'GIS_AREA', 'NO_TAKE',\n",
       "       'NO_TK_AREA', 'STATUS', 'STATUS_YR', 'GOV_TYPE', 'OWN_TYPE',\n",
       "       'MANG_AUTH', 'MANG_PLAN', 'VERIF', 'METADATAID', 'SUB_LOC',\n",
       "       'PARENT_ISO', 'ISO3', 'Land_area', 'geometry'],\n",
       "      dtype='object')"
      ]
     },
     "execution_count": 13,
     "metadata": {},
     "output_type": "execute_result"
    }
   ],
   "source": [
    "national_parks.columns"
   ]
  },
  {
   "cell_type": "code",
   "execution_count": 14,
   "metadata": {},
   "outputs": [],
   "source": [
    "national_parks = national_parks[['NAME','geometry', 'GIS_AREA', 'Land_area', 'PARENT_ISO', 'ISO3']]"
   ]
  },
  {
   "cell_type": "code",
   "execution_count": 19,
   "metadata": {},
   "outputs": [],
   "source": [
    "national_parks_countries = national_parks[['NAME','PARENT_ISO', 'ISO3']]\n"
   ]
  },
  {
   "cell_type": "code",
   "execution_count": 23,
   "metadata": {},
   "outputs": [],
   "source": [
    "outfp = r\"data/parkcountries.csv\"\n",
    "national_parks_countries.to_csv(outfp)"
   ]
  },
  {
   "cell_type": "code",
   "execution_count": null,
   "metadata": {},
   "outputs": [],
   "source": [
    "national_parks.to_crs(epsg=4326)\n",
    "flickr_data_unmerged.crs = national_parks.crs"
   ]
  },
  {
   "cell_type": "code",
   "execution_count": null,
   "metadata": {},
   "outputs": [],
   "source": [
    "flickr_data = pd.merge(flickr_data_unmerged, continents, on='TÄHÄNCOUNTRYCODE')"
   ]
  },
  {
   "cell_type": "code",
   "execution_count": null,
   "metadata": {},
   "outputs": [],
   "source": []
  },
  {
   "cell_type": "code",
   "execution_count": null,
   "metadata": {},
   "outputs": [],
   "source": [
    "filckr_joined = gpd.sjoin(flicr_data, national_parks, how=\"inner\", op=\"within\")\n",
    "len(flickr_joined)"
   ]
  },
  {
   "cell_type": "code",
   "execution_count": null,
   "metadata": {},
   "outputs": [],
   "source": [
    "flickr_joined = flickr_joined[['species', 'NAME', 'id']]\n",
    "flickr_grouped = flickr_joined.groupby(['NAME', 'species']).count().reset_index()"
   ]
  },
  {
   "cell_type": "markdown",
   "metadata": {},
   "source": [
    "# Add country layers\n",
    "countries_gdf['species'] = None\n",
    "\n",
    "\n",
    "for index_c, row_c in countries_gdf.iterrows():\n",
    "    for index_s, row_s in species_group.iterrows():\n",
    "        if row_c['NAME'] == row_s['NAME']:\n",
    "            if row_c['species'] == None:\n",
    "                row_c['species'] = row_s['species'] + ': ' + str(row_s['id'])\n",
    "            else:\n",
    "                row_c['species'] = row_c['species'] + ', ' + row_s['species'] + ': ' + str(row_s['id'])\n",
    "                \n",
    "    countries_gdf.at[index_c, 'species'] = row_c['species']\n",
    "            \n",
    "\n",
    "countries = folium.GeoJson(countries_gdf, name='Countries species',\n",
    "                           style_function=lambda x: {'color':'red','fillColor':'red','weight':0.5},\n",
    "                           tooltip=folium.features.GeoJsonTooltip(fields=['NAME', 'species'],\n",
    "                                                            aliases = ['Country', 'Species'],\n",
    "                                                            labels=True,\n",
    "                                                            sticky=False))        \n",
    "countries.add_to(inter_map)\n",
    "\n",
    "print(countries_gdf)"
   ]
  }
 ],
 "metadata": {
  "kernelspec": {
   "display_name": "Python 3",
   "language": "python",
   "name": "python3"
  },
  "language_info": {
   "codemirror_mode": {
    "name": "ipython",
    "version": 3
   },
   "file_extension": ".py",
   "mimetype": "text/x-python",
   "name": "python",
   "nbconvert_exporter": "python",
   "pygments_lexer": "ipython3",
   "version": "3.7.3"
  }
 },
 "nbformat": 4,
 "nbformat_minor": 4
}
